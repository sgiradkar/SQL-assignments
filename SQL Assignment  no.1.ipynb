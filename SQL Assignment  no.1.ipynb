{
 "cells": [
  {
   "cell_type": "code",
   "execution_count": 1,
   "metadata": {},
   "outputs": [
    {
     "name": "stdout",
     "output_type": "stream",
     "text": [
      "database created!!\n"
     ]
    }
   ],
   "source": [
    "import mysql.connector as connection\n",
    "try:\n",
    "    mydb=connection.connect(host=\"localhost\",user=\"root\",passwd=\"mysql\")\n",
    "    cur = mydb.cursor()\n",
    "    cur.execute(\"CREATE DATABASE company_details\")\n",
    "    print(\"database created!!\")\n",
    "    \n",
    "except Execption as e:\n",
    "    mydb.close()\n",
    "    print(str(e))\n"
   ]
  },
  {
   "cell_type": "code",
   "execution_count": 2,
   "metadata": {},
   "outputs": [
    {
     "name": "stdout",
     "output_type": "stream",
     "text": [
      "table created!!\n"
     ]
    }
   ],
   "source": [
    "import mysql.connector as connection\n",
    "try:\n",
    "    mydb=connection.connect(host=\"localhost\",user=\"root\",passwd=\"mysql\",database=\"company_details\")\n",
    "    cur = mydb.cursor()\n",
    "    cur.execute(\"CREATE TABLE worker (id INT PRIMARY KEY AUTO_INCREMENT,f_name VARCHAR(30),dept VARCHAR(30),salary DECIMAL(7,1),email VARCHAR(30),join_dt DATE)\")\n",
    "    print(\"table created!!\")\n",
    "    mydb.close()    \n",
    "except Execption as e:\n",
    "    mydb.close()\n",
    "    print(str(e))\n"
   ]
  },
  {
   "cell_type": "code",
   "execution_count": 6,
   "metadata": {},
   "outputs": [
    {
     "name": "stdout",
     "output_type": "stream",
     "text": [
      "data inserted!!\n"
     ]
    }
   ],
   "source": [
    "import mysql.connector as connection\n",
    "try:\n",
    "    mydb=connection.connect(host=\"localhost\",user=\"root\",passwd=\"mysql\",database=\"company_details\")\n",
    "    cur = mydb.cursor()\n",
    "    cur.execute(\"INSERT INTO  worker VALUES (NULL,'Vedanti','HR',100000,'veda@mail.com','2018-06-07'),(NULL,'Avanti','Account',120000,'avanti@mail.com','2017-02-08'),(NULL,'Amitabh','Admin',150000,'amitabh@mail.com','2019-06-16'),(NULL,'Vipul','Admin',130000,'vipul121@mail.com','2016-06-07'),(NULL,'Satish','HR',140000,'satish5@mail.com','2018-06-07'),(NULL,'Rahul','Account',110000,'rahul8@mail.com','2019-06-05'),(NULL,'Anvi','HR',145000,'anu@mail.com','2016-03-07'),(NULL,'Savi','Account',123000,'savi@mail.com','2019-01-10'),(NULL,'Akansha','Admin',160000,'akansha@mail.com','2014-08-01'),(NULL,'Alvin','Admin',155000,'alvin@mail.com','2019-03-02')\")\n",
    "    mydb.commit()\n",
    "    print(\"data inserted!!\")\n",
    "    mydb.close()    \n",
    "\n",
    "except Exception as e:\n",
    "    mydb.close()\n",
    "    print(str(e))"
   ]
  },
  {
   "cell_type": "markdown",
   "metadata": {},
   "source": [
    "### Q-1. Write an SQL query to fetch “FIRST_NAME” from Worker table using the alias name as WORKER_NAME."
   ]
  },
  {
   "cell_type": "code",
   "execution_count": 1,
   "metadata": {},
   "outputs": [
    {
     "data": {
      "text/html": [
       "<div>\n",
       "<style scoped>\n",
       "    .dataframe tbody tr th:only-of-type {\n",
       "        vertical-align: middle;\n",
       "    }\n",
       "\n",
       "    .dataframe tbody tr th {\n",
       "        vertical-align: top;\n",
       "    }\n",
       "\n",
       "    .dataframe thead th {\n",
       "        text-align: right;\n",
       "    }\n",
       "</style>\n",
       "<table border=\"1\" class=\"dataframe\">\n",
       "  <thead>\n",
       "    <tr style=\"text-align: right;\">\n",
       "      <th></th>\n",
       "      <th>WORKER_NAME</th>\n",
       "    </tr>\n",
       "  </thead>\n",
       "  <tbody>\n",
       "    <tr>\n",
       "      <th>0</th>\n",
       "      <td>Vedanti</td>\n",
       "    </tr>\n",
       "    <tr>\n",
       "      <th>1</th>\n",
       "      <td>Avanti</td>\n",
       "    </tr>\n",
       "    <tr>\n",
       "      <th>2</th>\n",
       "      <td>Amitabh</td>\n",
       "    </tr>\n",
       "    <tr>\n",
       "      <th>3</th>\n",
       "      <td>Vipul</td>\n",
       "    </tr>\n",
       "    <tr>\n",
       "      <th>4</th>\n",
       "      <td>Satish</td>\n",
       "    </tr>\n",
       "    <tr>\n",
       "      <th>5</th>\n",
       "      <td>Rahul</td>\n",
       "    </tr>\n",
       "    <tr>\n",
       "      <th>6</th>\n",
       "      <td>Anvi</td>\n",
       "    </tr>\n",
       "    <tr>\n",
       "      <th>7</th>\n",
       "      <td>Savi</td>\n",
       "    </tr>\n",
       "    <tr>\n",
       "      <th>8</th>\n",
       "      <td>Akansha</td>\n",
       "    </tr>\n",
       "    <tr>\n",
       "      <th>9</th>\n",
       "      <td>Alvin</td>\n",
       "    </tr>\n",
       "  </tbody>\n",
       "</table>\n",
       "</div>"
      ],
      "text/plain": [
       "  WORKER_NAME\n",
       "0     Vedanti\n",
       "1      Avanti\n",
       "2     Amitabh\n",
       "3       Vipul\n",
       "4      Satish\n",
       "5       Rahul\n",
       "6        Anvi\n",
       "7        Savi\n",
       "8     Akansha\n",
       "9       Alvin"
      ]
     },
     "execution_count": 1,
     "metadata": {},
     "output_type": "execute_result"
    }
   ],
   "source": [
    "import mysql.connector as connection\n",
    "import pandas as pd\n",
    "mydb= connection.connect(host =\"localhost\",user=\"root\",database = \"company_details\",passwd = \"mysql\")\n",
    "pd.read_sql(\"SELECT f_name AS WORKER_NAME FROM worker \",mydb) \n"
   ]
  },
  {
   "cell_type": "markdown",
   "metadata": {},
   "source": [
    "### Q-2. Write an SQL query to fetch unique values of DEPARTMENT from Worker table.\n"
   ]
  },
  {
   "cell_type": "code",
   "execution_count": 10,
   "metadata": {},
   "outputs": [
    {
     "name": "stdout",
     "output_type": "stream",
     "text": [
      "('HR',)\n",
      "('Account',)\n",
      "('Admin',)\n"
     ]
    }
   ],
   "source": [
    "import mysql.connector as connection\n",
    "mydb=connection.connect(host=\"localhost\",user=\"root\",passwd=\"mysql\",database=\"company_details\")\n",
    "cur = mydb.cursor()\n",
    "cur.execute(\"SELECT DISTINCT dept FROM worker\")\n",
    "res = cur.fetchall()\n",
    "for i in res:\n",
    "    print(i)"
   ]
  },
  {
   "cell_type": "markdown",
   "metadata": {},
   "source": [
    "### Q-3. Write an SQL query to show the last 5 record from a table."
   ]
  },
  {
   "cell_type": "code",
   "execution_count": 11,
   "metadata": {},
   "outputs": [
    {
     "name": "stdout",
     "output_type": "stream",
     "text": [
      "(6, 'Rahul', 'Account', Decimal('110000.0'), 'rahul8@mail.com', datetime.date(2019, 6, 5))\n",
      "(7, 'Anvi', 'HR', Decimal('145000.0'), 'anu@mail.com', datetime.date(2016, 3, 7))\n",
      "(8, 'Savi', 'Account', Decimal('123000.0'), 'savi@mail.com', datetime.date(2019, 1, 10))\n",
      "(9, 'Akansha', 'Admin', Decimal('160000.0'), 'akansha@mail.com', datetime.date(2014, 8, 1))\n",
      "(10, 'Alvin', 'Admin', Decimal('155000.0'), 'alvin@mail.com', datetime.date(2019, 3, 2))\n"
     ]
    }
   ],
   "source": [
    "import mysql.connector as connection\n",
    "mydb=connection.connect(host=\"localhost\",user=\"root\",passwd=\"mysql\",database=\"company_details\")\n",
    "cur = mydb.cursor()\n",
    "cur.execute(\"SELECT * FROM worker LIMIT 5 OFFSET 5\") \n",
    "res = cur.fetchall()\n",
    "for i in res:\n",
    "    print(i)"
   ]
  }
 ],
 "metadata": {
  "kernelspec": {
   "display_name": "Python 3",
   "language": "python",
   "name": "python3"
  },
  "language_info": {
   "codemirror_mode": {
    "name": "ipython",
    "version": 3
   },
   "file_extension": ".py",
   "mimetype": "text/x-python",
   "name": "python",
   "nbconvert_exporter": "python",
   "pygments_lexer": "ipython3",
   "version": "3.8.5"
  }
 },
 "nbformat": 4,
 "nbformat_minor": 4
}
