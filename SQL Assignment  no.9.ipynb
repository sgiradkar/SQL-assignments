{
 "cells": [
  {
   "cell_type": "markdown",
   "metadata": {},
   "source": [
    "### Q-17.  Write an SQL query to show the top n (say 10) records of a table.\n"
   ]
  },
  {
   "cell_type": "code",
   "execution_count": 2,
   "metadata": {},
   "outputs": [
    {
     "name": "stdout",
     "output_type": "stream",
     "text": [
      "(9, 'Akansha', 'Admin', Decimal('160000.0'), 'akansha@mail.com', datetime.date(2014, 8, 1))\n",
      "(10, 'Alvin', 'Admin', Decimal('155000.0'), 'alvin@mail.com', datetime.date(2019, 3, 2))\n",
      "(3, 'Amitabh', 'Admin', Decimal('150000.0'), 'amitabh@mail.com', datetime.date(2019, 6, 16))\n",
      "(7, 'Anvi', 'HR', Decimal('145000.0'), 'anu@mail.com', datetime.date(2016, 3, 7))\n",
      "(5, 'Satish', 'HR', Decimal('140000.0'), 'satish5@mail.com', datetime.date(2018, 6, 7))\n",
      "(4, 'Vipul', 'Admin', Decimal('130000.0'), 'vipul121@mail.com', datetime.date(2016, 6, 7))\n",
      "(13, 'sachi', 'Admin', Decimal('130000.0'), 'sachi121@mail.com', datetime.date(2014, 2, 7))\n",
      "(8, 'Savi', 'Account', Decimal('123000.0'), 'savi@mail.com', datetime.date(2019, 1, 10))\n",
      "(2, 'Avanti', 'Account', Decimal('120000.0'), 'avanti@mail.com', datetime.date(2017, 2, 8))\n",
      "(12, 'Avanti', 'HR', Decimal('120000.0'), 'avanti1@mail.com', datetime.date(2014, 2, 8))\n"
     ]
    }
   ],
   "source": [
    "import mysql.connector as connection\n",
    "mydb=connection.connect(host=\"localhost\",user=\"root\",passwd=\"mysql\",database=\"company_details\")\n",
    "cur = mydb.cursor()\n",
    "cur.execute(\"SELECT * FROM worker ORDER BY salary DESC LIMIT 10 \")\n",
    "res = cur.fetchall()\n",
    "for i in res:\n",
    "    print(i)"
   ]
  },
  {
   "cell_type": "markdown",
   "metadata": {},
   "source": [
    "### Q-18. Write an SQL query to determine the nth (say n=5) highest salary from a table.\n"
   ]
  },
  {
   "cell_type": "code",
   "execution_count": 5,
   "metadata": {},
   "outputs": [
    {
     "name": "stdout",
     "output_type": "stream",
     "text": [
      "(Decimal('100000.0'),)\n"
     ]
    }
   ],
   "source": [
    "import mysql.connector as connection\n",
    "mydb=connection.connect(host=\"localhost\",user=\"root\",passwd=\"mysql\",database=\"company_details\")\n",
    "cur = mydb.cursor()\n",
    "cur.execute(\"SELECT salary FROM worker ORDER BY Salary DESC LIMIT 11,1 \")\n",
    "res = cur.fetchone()\n",
    "print(res)"
   ]
  }
 ],
 "metadata": {
  "kernelspec": {
   "display_name": "Python 3",
   "language": "python",
   "name": "python3"
  },
  "language_info": {
   "codemirror_mode": {
    "name": "ipython",
    "version": 3
   },
   "file_extension": ".py",
   "mimetype": "text/x-python",
   "name": "python",
   "nbconvert_exporter": "python",
   "pygments_lexer": "ipython3",
   "version": "3.8.5"
  }
 },
 "nbformat": 4,
 "nbformat_minor": 4
}
