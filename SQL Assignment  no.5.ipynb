{
 "cells": [
  {
   "cell_type": "markdown",
   "metadata": {},
   "source": [
    "### Q-1. Write an SQL query to print details of workers excluding first names, “Vipul” and “Satish” from Worker table.\n"
   ]
  },
  {
   "cell_type": "code",
   "execution_count": 1,
   "metadata": {},
   "outputs": [
    {
     "name": "stdout",
     "output_type": "stream",
     "text": [
      "(1, 'Vedanti', 'HR', Decimal('100000.0'), 'veda@mail.com', datetime.date(2018, 6, 7))\n",
      "(2, 'Avanti', 'Account', Decimal('120000.0'), 'avanti@mail.com', datetime.date(2017, 2, 8))\n",
      "(3, 'Amitabh', 'Admin', Decimal('150000.0'), 'amitabh@mail.com', datetime.date(2019, 6, 16))\n",
      "(6, 'Rahul', 'Account', Decimal('110000.0'), 'rahul8@mail.com', datetime.date(2019, 6, 5))\n",
      "(7, 'Anvi', 'HR', Decimal('145000.0'), 'anu@mail.com', datetime.date(2016, 3, 7))\n",
      "(8, 'Savi', 'Account', Decimal('123000.0'), 'savi@mail.com', datetime.date(2019, 1, 10))\n",
      "(9, 'Akansha', 'Admin', Decimal('160000.0'), 'akansha@mail.com', datetime.date(2014, 8, 1))\n",
      "(10, 'Alvin', 'Admin', Decimal('155000.0'), 'alvin@mail.com', datetime.date(2019, 3, 2))\n"
     ]
    }
   ],
   "source": [
    "import mysql.connector as connection\n",
    "mydb=connection.connect(host=\"localhost\",user=\"root\",passwd=\"mysql\",database=\"company_details\")\n",
    "cur = mydb.cursor()\n",
    "cur.execute(\"SELECT * FROM worker WHERE f_name not in ('Vipul','Satish'); \")\n",
    "res = cur.fetchall()\n",
    "for i in res:\n",
    "    print(i)"
   ]
  },
  {
   "cell_type": "markdown",
   "metadata": {},
   "source": [
    "### Q-2. Write an SQL query to print details of the Workers whose FIRST_NAME ends with ‘h’ and contains six alphabets.\n"
   ]
  },
  {
   "cell_type": "code",
   "execution_count": 4,
   "metadata": {},
   "outputs": [
    {
     "name": "stdout",
     "output_type": "stream",
     "text": [
      "(5, 'Satish', 'HR', Decimal('140000.0'), 'satish5@mail.com', datetime.date(2018, 6, 7))\n"
     ]
    }
   ],
   "source": [
    "import mysql.connector as connection\n",
    "mydb=connection.connect(host=\"localhost\",user=\"root\",passwd=\"mysql\",database=\"company_details\")\n",
    "cur = mydb.cursor()\n",
    "cur.execute(\"SELECT * FROM worker WHERE f_name like '_____h' \")\n",
    "res = cur.fetchone()\n",
    "print(res)"
   ]
  },
  {
   "cell_type": "markdown",
   "metadata": {},
   "source": [
    "### Q-3. Write a query to validate Email of Employee.\n"
   ]
  },
  {
   "cell_type": "code",
   "execution_count": 5,
   "metadata": {},
   "outputs": [
    {
     "name": "stdout",
     "output_type": "stream",
     "text": [
      "(1, 'Vedanti', 'HR', Decimal('100000.0'), 'veda@mail.com', datetime.date(2018, 6, 7))\n",
      "(2, 'Avanti', 'Account', Decimal('120000.0'), 'avanti@mail.com', datetime.date(2017, 2, 8))\n",
      "(3, 'Amitabh', 'Admin', Decimal('150000.0'), 'amitabh@mail.com', datetime.date(2019, 6, 16))\n",
      "(4, 'Vipul', 'Admin', Decimal('130000.0'), 'vipul121@mail.com', datetime.date(2016, 6, 7))\n",
      "(5, 'Satish', 'HR', Decimal('140000.0'), 'satish5@mail.com', datetime.date(2018, 6, 7))\n",
      "(6, 'Rahul', 'Account', Decimal('110000.0'), 'rahul8@mail.com', datetime.date(2019, 6, 5))\n",
      "(7, 'Anvi', 'HR', Decimal('145000.0'), 'anu@mail.com', datetime.date(2016, 3, 7))\n",
      "(8, 'Savi', 'Account', Decimal('123000.0'), 'savi@mail.com', datetime.date(2019, 1, 10))\n",
      "(9, 'Akansha', 'Admin', Decimal('160000.0'), 'akansha@mail.com', datetime.date(2014, 8, 1))\n",
      "(10, 'Alvin', 'Admin', Decimal('155000.0'), 'alvin@mail.com', datetime.date(2019, 3, 2))\n"
     ]
    }
   ],
   "source": [
    "import mysql.connector as connection\n",
    "mydb=connection.connect(host=\"localhost\",user=\"root\",passwd=\"mysql\",database=\"company_details\")\n",
    "cur = mydb.cursor()\n",
    "cur.execute(\"SELECT * FROM worker WHERE email regexp '^[a-zA-Z0-9][+a-zA-Z0-9._-]*@[a-zA-Z0-9][a-zA-Z0-9]*\\\\.[a-zA-Z0-9]{2,4}$' \")\n",
    "res = cur.fetchall()\n",
    "for i in res:\n",
    "    print(i)"
   ]
  }
 ],
 "metadata": {
  "kernelspec": {
   "display_name": "Python 3",
   "language": "python",
   "name": "python3"
  },
  "language_info": {
   "codemirror_mode": {
    "name": "ipython",
    "version": 3
   },
   "file_extension": ".py",
   "mimetype": "text/x-python",
   "name": "python",
   "nbconvert_exporter": "python",
   "pygments_lexer": "ipython3",
   "version": "3.8.5"
  }
 },
 "nbformat": 4,
 "nbformat_minor": 4
}
