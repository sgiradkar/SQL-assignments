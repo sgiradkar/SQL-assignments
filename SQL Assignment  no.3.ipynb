{
 "cells": [
  {
   "cell_type": "markdown",
   "metadata": {},
   "source": [
    "### Q-1. Write an SQL query to print the FIRST_NAME from Worker table after removing white spaces from the right side."
   ]
  },
  {
   "cell_type": "code",
   "execution_count": 1,
   "metadata": {},
   "outputs": [
    {
     "name": "stdout",
     "output_type": "stream",
     "text": [
      "('Vedanti',)\n",
      "('Avanti',)\n",
      "('Amitabh',)\n",
      "('Vipul',)\n",
      "('Satish',)\n",
      "('Rahul',)\n",
      "('Anvi',)\n",
      "('Savi',)\n",
      "('Akansha',)\n",
      "('Alvin',)\n"
     ]
    }
   ],
   "source": [
    "import mysql.connector as connection\n",
    "mydb=connection.connect(host=\"localhost\",user=\"root\",passwd=\"mysql\",database=\"company_details\")\n",
    "cur = mydb.cursor()\n",
    "cur.execute(\"SELECT RTRIM(f_name) FROM worker\")\n",
    "res = cur.fetchall()\n",
    "for i in res:\n",
    "    print(i)"
   ]
  },
  {
   "cell_type": "markdown",
   "metadata": {},
   "source": [
    "### Q-2. Write an SQL query that fetches the unique values of DEPARTMENT from Worker table and prints its length."
   ]
  },
  {
   "cell_type": "code",
   "execution_count": 3,
   "metadata": {},
   "outputs": [
    {
     "name": "stdout",
     "output_type": "stream",
     "text": [
      "(2,)\n",
      "(7,)\n",
      "(5,)\n"
     ]
    }
   ],
   "source": [
    "import mysql.connector as connection\n",
    "mydb=connection.connect(host=\"localhost\",user=\"root\",passwd=\"mysql\",database=\"company_details\")\n",
    "cur = mydb.cursor()\n",
    "cur.execute(\"SELECT DISTINCT LENGTH(dept) FROM worker\")\n",
    "res = cur.fetchall()\n",
    "for i in res:\n",
    "    print(i)"
   ]
  },
  {
   "cell_type": "markdown",
   "metadata": {},
   "source": [
    "### Q-3. Write an SQL query to fetch nth max salaries from a table."
   ]
  },
  {
   "cell_type": "code",
   "execution_count": 2,
   "metadata": {},
   "outputs": [
    {
     "name": "stdout",
     "output_type": "stream",
     "text": [
      "(Decimal('160000.0'),)\n",
      "(Decimal('155000.0'),)\n",
      "(Decimal('150000.0'),)\n",
      "(Decimal('145000.0'),)\n",
      "(Decimal('140000.0'),)\n",
      "(Decimal('123000.0'),)\n"
     ]
    }
   ],
   "source": [
    "import mysql.connector as connection\n",
    "mydb=connection.connect(host=\"localhost\",user=\"root\",passwd=\"mysql\",database=\"company_details\")\n",
    "cur = mydb.cursor()\n",
    "cur.execute(\"SELECT distinct Salary from worker a WHERE id >= (SELECT count(distinct Salary) from worker b WHERE a.Salary <= b.Salary) order by a.Salary desc\")\n",
    "res = cur.fetchall()\n",
    "for i in res:\n",
    "    print(i)"
   ]
  }
 ],
 "metadata": {
  "kernelspec": {
   "display_name": "Python 3",
   "language": "python",
   "name": "python3"
  },
  "language_info": {
   "codemirror_mode": {
    "name": "ipython",
    "version": 3
   },
   "file_extension": ".py",
   "mimetype": "text/x-python",
   "name": "python",
   "nbconvert_exporter": "python",
   "pygments_lexer": "ipython3",
   "version": "3.8.5"
  }
 },
 "nbformat": 4,
 "nbformat_minor": 4
}
