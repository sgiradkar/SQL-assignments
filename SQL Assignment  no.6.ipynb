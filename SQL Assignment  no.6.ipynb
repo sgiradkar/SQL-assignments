{
 "cells": [
  {
   "cell_type": "code",
   "execution_count": 3,
   "metadata": {},
   "outputs": [
    {
     "name": "stdout",
     "output_type": "stream",
     "text": [
      "data inserted!!\n"
     ]
    }
   ],
   "source": [
    "import mysql.connector as connection\n",
    "try:\n",
    "    mydb=connection.connect(host=\"localhost\",user=\"root\",passwd=\"mysql\",database=\"company_details\")\n",
    "    cur = mydb.cursor()\n",
    "    cur.execute(\"INSERT INTO  worker VALUES (NULL,'Vedanti','admin',105000,'veda2@mail.com','2014-02-01'),(NULL,'Avanti','HR',120000,'avanti1@mail.com','2014-02-08'),(NULL,'sachi','Admin',130000,'sachi121@mail.com','2014-02-07')\")\n",
    "    mydb.commit()\n",
    "    print(\"data inserted!!\")\n",
    "    mydb.close()    \n",
    "\n",
    "except Exception as e:\n",
    "    mydb.close()\n",
    "    print(str(e))"
   ]
  },
  {
   "cell_type": "markdown",
   "metadata": {},
   "source": [
    "### Q-1. Write an SQL query to print details of the Workers who have joined in Feb’2014."
   ]
  },
  {
   "cell_type": "code",
   "execution_count": 4,
   "metadata": {},
   "outputs": [
    {
     "name": "stdout",
     "output_type": "stream",
     "text": [
      "(11, 'Vedanti', 'admin', Decimal('105000.0'), 'veda2@mail.com', datetime.date(2014, 2, 1))\n",
      "(12, 'Avanti', 'HR', Decimal('120000.0'), 'avanti1@mail.com', datetime.date(2014, 2, 8))\n",
      "(13, 'sachi', 'Admin', Decimal('130000.0'), 'sachi121@mail.com', datetime.date(2014, 2, 7))\n"
     ]
    }
   ],
   "source": [
    "import mysql.connector as connection\n",
    "mydb=connection.connect(host=\"localhost\",user=\"root\",passwd=\"mysql\",database=\"company_details\")\n",
    "cur = mydb.cursor()\n",
    "cur.execute(\"SELECT * FROM worker WHERE year(join_dt) = 2014 and month(join_dt) = 2 \")\n",
    "res = cur.fetchall()\n",
    "for i in res:\n",
    "    print(i)"
   ]
  },
  {
   "cell_type": "markdown",
   "metadata": {},
   "source": [
    "### Q-2. Write an SQL query to fetch duplicate records having matching data in some fields of a table.\n"
   ]
  },
  {
   "cell_type": "code",
   "execution_count": 6,
   "metadata": {},
   "outputs": [],
   "source": [
    "import mysql.connector as connection\n",
    "mydb=connection.connect(host=\"localhost\",user=\"root\",passwd=\"mysql\",database=\"company_details\")\n",
    "cur = mydb.cursor()\n",
    "cur.execute(\"SELECT f_name, email, COUNT(*) FROM worker GROUP BY f_name, email HAVING COUNT(*) > 1\")\n",
    "res = cur.fetchall()\n",
    "for i in res:\n",
    "    print(i)"
   ]
  },
  {
   "cell_type": "markdown",
   "metadata": {},
   "source": [
    "### Q-3. How to remove duplicate rows from Employees table.\n"
   ]
  },
  {
   "cell_type": "code",
   "execution_count": 7,
   "metadata": {},
   "outputs": [],
   "source": [
    "import mysql.connector as connection\n",
    "mydb=connection.connect(host=\"localhost\",user=\"root\",passwd=\"mysql\",database=\"company_details\")\n",
    "cur = mydb.cursor()\n",
    "cur.execute(\" DELETE FROM worker WHERE f_name='Vedanti' AND id =11\")\n",
    "mydb.commit()"
   ]
  },
  {
   "cell_type": "code",
   "execution_count": 9,
   "metadata": {},
   "outputs": [
    {
     "name": "stdout",
     "output_type": "stream",
     "text": [
      "(1, 'Vedanti', 'HR', Decimal('100000.0'), 'veda@mail.com', datetime.date(2018, 6, 7))\n",
      "(2, 'Avanti', 'Account', Decimal('120000.0'), 'avanti@mail.com', datetime.date(2017, 2, 8))\n",
      "(3, 'Amitabh', 'Admin', Decimal('150000.0'), 'amitabh@mail.com', datetime.date(2019, 6, 16))\n",
      "(4, 'Vipul', 'Admin', Decimal('130000.0'), 'vipul121@mail.com', datetime.date(2016, 6, 7))\n",
      "(5, 'Satish', 'HR', Decimal('140000.0'), 'satish5@mail.com', datetime.date(2018, 6, 7))\n",
      "(6, 'Rahul', 'Account', Decimal('110000.0'), 'rahul8@mail.com', datetime.date(2019, 6, 5))\n",
      "(7, 'Anvi', 'HR', Decimal('145000.0'), 'anu@mail.com', datetime.date(2016, 3, 7))\n",
      "(8, 'Savi', 'Account', Decimal('123000.0'), 'savi@mail.com', datetime.date(2019, 1, 10))\n",
      "(9, 'Akansha', 'Admin', Decimal('160000.0'), 'akansha@mail.com', datetime.date(2014, 8, 1))\n",
      "(10, 'Alvin', 'Admin', Decimal('155000.0'), 'alvin@mail.com', datetime.date(2019, 3, 2))\n",
      "(12, 'Avanti', 'HR', Decimal('120000.0'), 'avanti1@mail.com', datetime.date(2014, 2, 8))\n",
      "(13, 'sachi', 'Admin', Decimal('130000.0'), 'sachi121@mail.com', datetime.date(2014, 2, 7))\n",
      "f_name=vedanti and id=11 deleted \n"
     ]
    }
   ],
   "source": [
    "import mysql.connector as connection\n",
    "mydb=connection.connect(host=\"localhost\",user=\"root\",passwd=\"mysql\",database=\"company_details\")\n",
    "cur = mydb.cursor()\n",
    "cur.execute(\"SELECT * FROM worker \")\n",
    "res = cur.fetchall()\n",
    "for i in res:\n",
    "    print(i)\n",
    "print(\"f_name=vedanti and id=11 deleted \")\n"
   ]
  }
 ],
 "metadata": {
  "kernelspec": {
   "display_name": "Python 3",
   "language": "python",
   "name": "python3"
  },
  "language_info": {
   "codemirror_mode": {
    "name": "ipython",
    "version": 3
   },
   "file_extension": ".py",
   "mimetype": "text/x-python",
   "name": "python",
   "nbconvert_exporter": "python",
   "pygments_lexer": "ipython3",
   "version": "3.8.5"
  }
 },
 "nbformat": 4,
 "nbformat_minor": 4
}
