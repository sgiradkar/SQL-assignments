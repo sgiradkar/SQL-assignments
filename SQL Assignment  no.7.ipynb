{
 "cells": [
  {
   "cell_type": "markdown",
   "metadata": {},
   "source": [
    "### Q-13. Write an SQL query to show only odd rows from a table."
   ]
  },
  {
   "cell_type": "code",
   "execution_count": 1,
   "metadata": {},
   "outputs": [
    {
     "name": "stdout",
     "output_type": "stream",
     "text": [
      "(1, 'Vedanti', 'HR', Decimal('100000.0'), 'veda@mail.com', datetime.date(2018, 6, 7))\n",
      "(3, 'Amitabh', 'Admin', Decimal('150000.0'), 'amitabh@mail.com', datetime.date(2019, 6, 16))\n",
      "(5, 'Satish', 'HR', Decimal('140000.0'), 'satish5@mail.com', datetime.date(2018, 6, 7))\n",
      "(7, 'Anvi', 'HR', Decimal('145000.0'), 'anu@mail.com', datetime.date(2016, 3, 7))\n",
      "(9, 'Akansha', 'Admin', Decimal('160000.0'), 'akansha@mail.com', datetime.date(2014, 8, 1))\n",
      "(13, 'sachi', 'Admin', Decimal('130000.0'), 'sachi121@mail.com', datetime.date(2014, 2, 7))\n"
     ]
    }
   ],
   "source": [
    "import mysql.connector as connection\n",
    "mydb=connection.connect(host=\"localhost\",user=\"root\",passwd=\"mysql\",database=\"company_details\")\n",
    "cur = mydb.cursor()\n",
    "cur.execute(\"SELECT * FROM worker  WHERE MOD (id, 2) <> 0; \")\n",
    "res = cur.fetchall()\n",
    "for i in res:\n",
    "    print(i)"
   ]
  },
  {
   "cell_type": "markdown",
   "metadata": {},
   "source": [
    "### Q-14. Write an SQL query to clone a new table from another table."
   ]
  },
  {
   "cell_type": "code",
   "execution_count": 2,
   "metadata": {},
   "outputs": [
    {
     "name": "stdout",
     "output_type": "stream",
     "text": [
      "clone table created\n"
     ]
    }
   ],
   "source": [
    "import mysql.connector as connection\n",
    "mydb=connection.connect(host=\"localhost\",user=\"root\",passwd=\"mysql\",database=\"company_details\")\n",
    "cur = mydb.cursor()\n",
    "cur.execute(\"CREATE TABLE new_worker LIKE worker  \")\n",
    "print(\"clone table created\")"
   ]
  },
  {
   "cell_type": "code",
   "execution_count": 5,
   "metadata": {},
   "outputs": [],
   "source": [
    "import mysql.connector as connection\n",
    "mydb=connection.connect(host=\"localhost\",user=\"root\",passwd=\"mysql\",database=\"company_details\")\n",
    "cur = mydb.cursor()\n",
    "cur.execute(\"INSERT INTO new_worker SELECT * FROM worker\")\n",
    "mydb.commit()"
   ]
  }
 ],
 "metadata": {
  "kernelspec": {
   "display_name": "Python 3",
   "language": "python",
   "name": "python3"
  },
  "language_info": {
   "codemirror_mode": {
    "name": "ipython",
    "version": 3
   },
   "file_extension": ".py",
   "mimetype": "text/x-python",
   "name": "python",
   "nbconvert_exporter": "python",
   "pygments_lexer": "ipython3",
   "version": "3.8.5"
  }
 },
 "nbformat": 4,
 "nbformat_minor": 4
}
